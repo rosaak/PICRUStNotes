{
 "cells": [
  {
   "cell_type": "markdown",
   "metadata": {},
   "source": [
    "Metagenomic Functional Profiling Pipelines using PICRUSt\n",
    "===="
   ]
  },
  {
   "cell_type": "markdown",
   "metadata": {},
   "source": [
    "#### Rationale\n",
    "\n",
    "* I have been analysing several metagenomic dataset for quite some time and I wish to organise all the scripts, tips and tricks I have learned from these studies.\n",
    "\n",
    "* So I decied to put the notes into jupyter notebooks. \n",
    "\n",
    "* Some notebooks are python based and some are R. \n",
    "\n",
    "* So next time when I use it or some one else just copy paste all the scripts from these notebooks and start again.\n",
    "\n",
    "----\n",
    "** Contents of this repo includes **\n",
    "\n",
    "* Notebooks discribing the pipelines.\n",
    "* Scripts I made and others to build up the entire workflow.\n",
    "* A galaxy work flow I created for LEfSe analysis.\n",
    "* Notebooks contain information about the softwares and Packages I used, some tips to do things in commandline etc.\n",
    "----\n",
    "** Navigation **\n",
    "\n",
    "* I have put the links to individual ipython notebooks here"
   ]
  },
  {
   "cell_type": "markdown",
   "metadata": {},
   "source": [
    "Notebook Files\n",
    "----\n",
    "1. [Some Theory](theory.ipynb)\n",
    "2. [Setting up the Env](setup_env.ipynb)\n",
    "3. [OTU clustering](run_qiime.ipynb)\n",
    "4. [PICRUSt Run](run_picrust.ipynb)\n",
    "5. [DESEq2 Example of PICRUSt Data](deseq2_on_picrust_kegg.ipynb)\n",
    "6. [Pathway Analysis of PICRSt::KEGG::DESeq2 results](pathview_after_deseq2.ipynb)\n",
    "7. [Run HUMAaN after PICRUSt](run_humman.ipynb)\n",
    "8. [Get the Modular Discription File](get_kegg_modules.ipynb)\n",
    "9. [Metagenome Contribution and what the heck is it](run_mc.ipynb)\n",
    "10. [LEfSe Analysis - OTU as well as KEGG Pathway](run_lefse.ipynb)"
   ]
  }
 ],
 "metadata": {
  "kernelspec": {
   "display_name": "Python 2",
   "language": "python",
   "name": "python2"
  },
  "language_info": {
   "codemirror_mode": {
    "name": "ipython",
    "version": 2
   },
   "file_extension": ".py",
   "mimetype": "text/x-python",
   "name": "python",
   "nbconvert_exporter": "python",
   "pygments_lexer": "ipython2",
   "version": "2.7.6"
  }
 },
 "nbformat": 4,
 "nbformat_minor": 0
}
