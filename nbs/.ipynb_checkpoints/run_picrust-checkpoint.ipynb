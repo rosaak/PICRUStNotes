{
 "cells": [
  {
   "cell_type": "markdown",
   "metadata": {},
   "source": [
    "Picrust run\n",
    "====\n",
    "\n",
    "----\n",
    "\n",
    "* The input for Picrust is the closed reference gg OTU ids specifically in _json_ format\n",
    "* The script takes the otu file and run the picrust \n",
    "* Also it converts the output file to STAMP spf format \n",
    "\n",
    "----\n",
    "\n",
    "\n",
    "Usage : picrust_run.sh closed.biom.json outdir\n",
    "\n",
    "\n",
    "----\n",
    "Dependency : biom_to_stamp.py\n",
    "\n",
    "which is from this repo [Microbiome Helper]( https://github.com/mlangill/microbiome_helper)\n",
    "\n",
    "----\n",
    "\n",
    "** check the script [here](../scripts/picrust_run.sh) **\n",
    "\n",
    "----"
   ]
  },
  {
   "cell_type": "markdown",
   "metadata": {},
   "source": [
    "Tips \n",
    "---\n",
    "\n",
    "* If you are working with gg version 13.5 to create the OTU file and try to convert the OTU biom file into stamp format using biom_to_stamp.py then it may give some error becasue of gg v 13.5 's taxonomy is not correct\n"
   ]
  }
 ],
 "metadata": {
  "kernelspec": {
   "display_name": "Python 2",
   "language": "python",
   "name": "python2"
  },
  "language_info": {
   "codemirror_mode": {
    "name": "ipython",
    "version": 2
   },
   "file_extension": ".py",
   "mimetype": "text/x-python",
   "name": "python",
   "nbconvert_exporter": "python",
   "pygments_lexer": "ipython2",
   "version": "2.7.6"
  }
 },
 "nbformat": 4,
 "nbformat_minor": 0
}
