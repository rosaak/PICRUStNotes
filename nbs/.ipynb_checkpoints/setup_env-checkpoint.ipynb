{
 "cells": [
  {
   "cell_type": "markdown",
   "metadata": {},
   "source": [
    "Intro to setting up the environment , Softwares and Packages\n",
    "===\n",
    "\n",
    "\n"
   ]
  },
  {
   "cell_type": "markdown",
   "metadata": {},
   "source": [
    "\n",
    "\n",
    "\n",
    "In this section I have documented how I set up my working environment and what the softwares I use and a brief description of the packeges for 16s metagenome analysis.\n",
    "\n",
    "\n",
    "###  Important Notes\n",
    "\n",
    "I ran Qiime and Picrust in two separate python virtiual environments. The reason being they both require have different versions of numpy and other other modules. So this is quick steps I do to create my virtual envs"
   ]
  },
  {
   "cell_type": "markdown",
   "metadata": {},
   "source": [
    "Setting up virtual env \n",
    "---\n",
    "This is from my blogplost I wrote to set up virtual envs and adding dependencies after my laptop crash\n",
    "\n",
    "\n",
    "the pain of installing everything back after a crash\n",
    "--\n",
    "#### Installing Virtualenv and Virtualenvwrapper and packages for Data Analysis\n",
    "```\n",
    "sudo apt-get install python-pip\n",
    "sudo apt-get install python-dev\n",
    "sudo apt-get install libfreetype6\n",
    "sudo apt-get install libfreetype6-dev\n",
    "sudo apt-get install libblas-dev\n",
    "sudo apt-get install liblapack-dev\n",
    "sudo apt-get install libxml2-dev \n",
    "sudo apt-get install libxslt-dev\n",
    "\n",
    "sudo apt-get install gfortran\n",
    "\n",
    "sudo pip install virtualenv\n",
    "sudo pip install virtualenvwrapper\n",
    "\n",
    "mkdir ~/.virtualenvs\n",
    "export WORKON_HOME=~/.virtualenvs\n",
    "source /usr/local/bin/virtualenvwrapper.sh\n",
    "```\n",
    "#### create a new environmnet \n",
    "```\n",
    "lsvirtualenv  # list the available envs\n",
    "mkvirtualenv p2 # make a new env\n",
    "workon p2 # start working on the env\n",
    "pip list  # list out all the python packages in it \n",
    "\n",
    "pip install ipython[all]\n",
    "pip install cython\n",
    "pip install numpy\n",
    "pip install scipy\n",
    "pip install pandas\n",
    "pip install matplotlib\n",
    "pip install biopython\n",
    "pip install scaffold \n",
    "pip install scikit-learn\n",
    "pip install scikit-bio\n",
    "pip install cogent\n",
    "pip install biom-format\n",
    "pip install lxml\n",
    "pip install html5lib\n",
    "pip install BeautifulSoup4\n",
    "```\n",
    "### Thoughts :\n",
    "* you can run all off this by rapping it inside a file called requrements.txt for installing them at once \n",
    "* check out the virtualenvwrapper docs for more details\n",
    "* tried to install python3 environmnet ...well it didn't work\n",
    "* alternatively u can use anaconda, canopy or Rodeo \n",
    "\n",
    "#### Installing R\n",
    "\n",
    "```\n",
    "sudo sh -c 'echo \"deb http://cran.rstudio.com/bin/linux/ubuntu trusty/\" >> /etc/apt/sources.list'\n",
    "\n",
    "gpg --keyserver keyserver.ubuntu.com --recv-key E084DAB9\n",
    "gpg -a --export E084DAB9 | sudo apt-key add -\n",
    "sudo apt-get update\n",
    "sudo apt-get -y install r-base\n",
    "sudo apt-get -y install libcurl4-gnutls-dev libxml2-dev libssl-dev\n",
    "\n",
    "Installing the packages in sudo\n",
    "\n",
    "sudo -s\n",
    "R\n",
    "pkgs = c(\"dplyr\",\"ggplot2\",\"reshape2\",\"ggvis\",\"tidyr\",\"pheatmap\", \"d3heatmap\")\n",
    "install.packages(pkgs,dependencies=TRUE)\n",
    "\n",
    "devtools::install_github(\"hrbrmstr/metricsgraphics\")\n",
    "# install some \n",
    "source(\"http://bioconductor.org/biocLite.R\")\n",
    "biocLite(\"phyloseq\")\n",
    "\n",
    "#exit out from root\n",
    "```"
   ]
  },
  {
   "cell_type": "markdown",
   "metadata": {},
   "source": [
    "Picrust and Qiime Env\n",
    "---\n",
    "\n",
    "**Making a virtual env for picrust**\n",
    "```\n",
    "mkvirtualenv -a /home/roshan/Softwares/virtualEnvs/picrust picrust\n",
    "```\n",
    "* Somehow virtualenv misserably failed to create a python3 env \n",
    "* a hack\n",
    "\n",
    "```\n",
    "python3 -c 'import sys; del sys.argv[0]; s = sys.argv[0]; exec(open(s).read(), {\"__file__\": s, \"__name__\": \"__main__\"})' `which virtualenv` -p python3 venv\n",
    "\n",
    "```\n",
    "\n",
    "------\n",
    "\n",
    "* So the same way you can make a qiime env\n",
    "\n",
    "* So I have created picrust and qiime for running them sepeartily and installed biom_format also for both\n",
    "* so I can call these virtual environments using workon and name of the virtualenv ex: picrustEnv \n",
    "    + [ `workon picrustEnv` ]\n",
    "* to get out of the environmnet use the command \n",
    "    + [ ` deactivate`  ]\n",
    "\n"
   ]
  },
  {
   "cell_type": "markdown",
   "metadata": {},
   "source": [
    "Tips\n",
    "=="
   ]
  },
  {
   "cell_type": "markdown",
   "metadata": {},
   "source": [
    "I love tmux . [In case your are un aware](https://robots.thoughtbot.com/a-tmux-crash-course). And I use virtualenv inside a tmux session. \n",
    "\n",
    "So here is the tip : \n",
    "\n",
    "* **If you use first a virtual machine and then tmux then it will cause problem and you may be out of the virtual env. So In my openion first get into a tmux session and then change into the virtual env.**\n",
    " "
   ]
  },
  {
   "cell_type": "markdown",
   "metadata": {},
   "source": [
    "What the heck is BIOM Format\n",
    "====\n",
    "\n",
    "Biom or **The Biological Observation Matrix (BIOM) format** is a convenient intermediary format.\n",
    "\n",
    "- [fork it from github ](https://github.com/biocore/biom-format) or [the website](http://biom-format.org/)\n",
    "\n",
    "\" designed to be a general-use format for representing counts of observations (e.g., OTUs, KO categories, lipid types) in one or more biological samples (e.g., microbiome samples, genomes, metagenomes). \"\n",
    "\n",
    "- So biom format is basically a hdf5 (in the latest version of biom) or a json file\n",
    "\n",
    "- I generally use biom for these three purposes\n",
    "    + converting between file formats (from hdf5 to json or to tsv)\n",
    "    + adding metadata to BIOM files\n",
    "    + summarizing BIOM files \n",
    "\n",
    "- These are the list of things which biom does. To use it use biom on command promt\n",
    "-------\n",
    "```\n",
    "   add-metadata        Add metadata to a BIOM table\n",
    "   convert             Convert to/from the BIOM table format\n",
    "   normalize-table     Normalize a BIOM table\n",
    "   show-install-info   Provide information about the biom-format installation\n",
    "   subset-table        Subset a BIOM table\n",
    "   summarize-table     Summarize sample or observation data in a BIOM table\n",
    "   validate-table      Validate a BIOM-formatted file\n",
    "```\n",
    "\n",
    "--------\n",
    "\n",
    "#### Basic  Structure of biom file\n",
    "- The biom tsv file can hold count data matrix and its associated taxonomy information, but no metadata as such\n",
    "- On the other hand biom hdf5 or json file can have metadata as well\n",
    "\n",
    "#### Notes , Thoughts !\n",
    "\n",
    "- biom in picrust virtual env is different from whats in qiime evironment. So do check the dependencies of each one \n",
    "\n",
    "\n"
   ]
  },
  {
   "cell_type": "markdown",
   "metadata": {},
   "source": [
    "Softwares\n",
    "===\n",
    "\n",
    "* [Qiime](http://qiime.org/)\n",
    "* [Phich](http://phinch.org/index.html)\n",
    "* [Picrust](http://picrust.github.io/picrust/)\n",
    "* [Biom](http://biom-format.org/) - is both a command line program or python as well as R package\n",
    "* [STAMP](http://kiwi.cs.dal.ca/Software/STAMP)"
   ]
  },
  {
   "cell_type": "markdown",
   "metadata": {},
   "source": [
    "Packages \n",
    "===\n",
    "\n",
    "These are the R packages I use frequently for metagenome analysis\n",
    "\n",
    "* [biom](http://biom-format.org/)\n",
    "* [phyloseq](https://joey711.github.io/phyloseq/)\n",
    "* [shiny phyloseq](http://joey711.github.io/shiny-phyloseq/)\n",
    "* [vegen](https://cran.r-project.org/web/packages/vegan/index.html)\n",
    "* [DESeq2](https://bioconductor.org/packages/release/bioc/html/DESeq2.html)\n",
    "\n",
    "\n"
   ]
  },
  {
   "cell_type": "markdown",
   "metadata": {
    "collapsed": true
   },
   "source": [
    "DataBase\n",
    "===\n",
    "* [greengenes ](http://greengenes.lbl.gov/cgi-bin/nph-index.cgi)\n",
    "* SILVA\n",
    "* RDP"
   ]
  },
  {
   "cell_type": "code",
   "execution_count": null,
   "metadata": {
    "collapsed": true
   },
   "outputs": [],
   "source": []
  }
 ],
 "metadata": {
  "kernelspec": {
   "display_name": "Python 2",
   "language": "python",
   "name": "python2"
  },
  "language_info": {
   "codemirror_mode": {
    "name": "ipython",
    "version": 2
   },
   "file_extension": ".py",
   "mimetype": "text/x-python",
   "name": "python",
   "nbconvert_exporter": "python",
   "pygments_lexer": "ipython2",
   "version": "2.7.6"
  }
 },
 "nbformat": 4,
 "nbformat_minor": 0
}
