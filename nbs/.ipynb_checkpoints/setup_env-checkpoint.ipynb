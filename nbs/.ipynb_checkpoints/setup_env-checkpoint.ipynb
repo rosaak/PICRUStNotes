{
 "cells": [
  {
   "cell_type": "markdown",
   "metadata": {},
   "source": [
    "INTRO: \n",
    "----\n",
    "\n",
    "#### IMP \n",
    "I ran Qiime and Picrust in two separate python virtiual environments. The reason being they both require have different versions of numpy and other other modules. So this is quick steps I do to create my virtual envs\n",
    "\n"
   ]
  },
  {
   "cell_type": "markdown",
   "metadata": {},
   "source": [
    "Setting up virtual env \n",
    "---\n",
    "This is from my blogplost I wrote to set up virtual envs after adding dependencies after a crash\n",
    "\n",
    "\n",
    "the pain of installing everything back after a crash\n",
    "--\n",
    "Installing Virtualenv and Virtualenvwrapper and packages for Data Analysis\n",
    "\n",
    "```\n",
    "sudo apt-get install python-pip\n",
    "sudo apt-get install python-dev\n",
    "sudo apt-get install libfreetype6\n",
    "sudo apt-get install libfreetype6-dev\n",
    "sudo apt-get install libblas-dev\n",
    "sudo apt-get install liblapack-dev\n",
    "sudo apt-get install libxml2-dev \n",
    "sudo apt-get install libxslt-dev\n",
    "\n",
    "sudo apt-get install gfortran\n",
    "\n",
    "sudo pip install virtualenv\n",
    "sudo pip install virtualenvwrapper\n",
    "\n",
    "mkdir ~/.virtualenvs\n",
    "export WORKON_HOME=~/.virtualenvs\n",
    "source /usr/local/bin/virtualenvwrapper.sh\n",
    "\n",
    "lsvirtualenv\n",
    "mkvirtualenv p2\n",
    "workon p2\n",
    "pip list \n",
    "pip install ipython[all]\n",
    "pip install cython\n",
    "pip install numpy\n",
    "pip install scipy\n",
    "pip install pandas\n",
    "pip install matplotlib\n",
    "pip install biopython\n",
    "pip install scaffold \n",
    "pip install scikit-learn\n",
    "pip install scikit-bio\n",
    "pip install cogent\n",
    "pip install biom-format\n",
    "pip install lxml\n",
    "pip install html5lib\n",
    "pip install BeautifulSoup4\n",
    "\n",
    "\n",
    "Installing R \n",
    "------------\n",
    "sudo sh -c 'echo \"deb http://cran.rstudio.com/bin/linux/ubuntu trusty/\" >> /etc/apt/sources.list'\n",
    "\n",
    "gpg --keyserver keyserver.ubuntu.com --recv-key E084DAB9\n",
    "gpg -a --export E084DAB9 | sudo apt-key add -\n",
    "sudo apt-get update\n",
    "sudo apt-get -y install r-base\n",
    "sudo apt-get -y install libcurl4-gnutls-dev libxml2-dev libssl-dev\n",
    "\n",
    "Installing the packages in sudo\n",
    "\n",
    "sudo -s\n",
    "R\n",
    "pkgs = c(\"dplyr\",\"ggplot2\",\"reshape2\",\"ggvis\",\"tidyr\",\"pheatmap\", \"d3heatmap\")\n",
    "\n",
    "install.packages(pkgs,dependencies=TRUE)\n",
    "\n",
    "devtools::install_github(\"hrbrmstr/metricsgraphics\")\n",
    "\n",
    "\n",
    "#exit out from root\n",
    "```"
   ]
  },
  {
   "cell_type": "code",
   "execution_count": null,
   "metadata": {
    "collapsed": true
   },
   "outputs": [],
   "source": []
  }
 ],
 "metadata": {
  "kernelspec": {
   "display_name": "Python 2",
   "language": "python",
   "name": "python2"
  },
  "language_info": {
   "codemirror_mode": {
    "name": "ipython",
    "version": 2
   },
   "file_extension": ".py",
   "mimetype": "text/x-python",
   "name": "python",
   "nbconvert_exporter": "python",
   "pygments_lexer": "ipython2",
   "version": "2.7.6"
  }
 },
 "nbformat": 4,
 "nbformat_minor": 0
}
