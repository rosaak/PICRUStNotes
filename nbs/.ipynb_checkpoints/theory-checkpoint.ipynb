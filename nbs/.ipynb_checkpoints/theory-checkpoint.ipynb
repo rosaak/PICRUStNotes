{
 "cells": [
  {
   "cell_type": "markdown",
   "metadata": {},
   "source": [
    "What is going on Guys !\n",
    "====\n",
    "\n",
    "* In this session I will give a brief idea about the taxonomic and functional profiling. \n",
    "* What are the existing softwares for it to run and analyse the amplicon dataset\n",
    "* Later what kind of software I use and the rationale behind it\n",
    "* "
   ]
  },
  {
   "cell_type": "markdown",
   "metadata": {},
   "source": [
    "### Why PICRUSt \n",
    "\n",
    "There are there softwares availble for functional profiling from 16s data \n",
    "\n",
    "* Picrust\n",
    "* Tax4Fun\n",
    "* vikodak\n",
    "\n",
    "I prefer to use Picrust, because I like to use green genes database , even though its outdated \n",
    "\n"
   ]
  },
  {
   "cell_type": "code",
   "execution_count": null,
   "metadata": {
    "collapsed": true
   },
   "outputs": [],
   "source": []
  },
  {
   "cell_type": "markdown",
   "metadata": {},
   "source": [
    "<< INCOMPLETE >>\n",
    "\n",
    "Profiling  of 16s amplicon\n",
    "----\n",
    "Taxonomic Profiling means ** WHAT ARE THE BUGS ?? **\n",
    "then naturally Functional Profiling means ** WHAT THESE BUGS ARE DOING ??? **\n",
    "\n",
    "#### How do we organize the 16s reads from a sample into taxa ?\n",
    "\n",
    "Answers\n",
    "\n",
    "1. Clustering\n",
    "2. Check each reads with a reference database\n",
    "3. Mixed method\n",
    "4. Check it with a pangenome ( not very sure about it, nor I ran it )"
   ]
  }
 ],
 "metadata": {
  "kernelspec": {
   "display_name": "Python 2",
   "language": "python",
   "name": "python2"
  },
  "language_info": {
   "codemirror_mode": {
    "name": "ipython",
    "version": 2
   },
   "file_extension": ".py",
   "mimetype": "text/x-python",
   "name": "python",
   "nbconvert_exporter": "python",
   "pygments_lexer": "ipython2",
   "version": "2.7.6"
  }
 },
 "nbformat": 4,
 "nbformat_minor": 0
}
