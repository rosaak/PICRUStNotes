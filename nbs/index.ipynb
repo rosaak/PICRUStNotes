{
 "cells": [
  {
   "cell_type": "markdown",
   "metadata": {},
   "source": [
    "Metagenomic Functional Profiling Pipelines using PICRUSt\n",
    "===="
   ]
  },
  {
   "cell_type": "markdown",
   "metadata": {},
   "source": [
    "This notebook contains the piplines I use for 16s amplicon functional profiling \n",
    "- this was initially written as a bash script"
   ]
  },
  {
   "cell_type": "markdown",
   "metadata": {},
   "source": [
    "Notebook Files\n",
    "----\n",
    "0. [Setting up the Env](setup_env.ipynb)\n",
    "1. [PICRUSt Run](run_picrust.ipynb)\n",
    "2. [DESEq2 Example of PICRUSt Data](deseq2_on_picrust_kegg.ipynb)\n",
    "3. [Pathway Analysis of PICRSt::KEGG::DESeq2 results](pathview_after_deseq2.ipynb)\n",
    "4. [Run HUMAaN after PICRUSt](run_humman.ipynb)\n",
    "5. [Get the Modular Discription File](get_kegg_modules.ipynb)\n",
    "6. [Metagenome Contribution and what the heck is it](run_mc.ipynb)\n",
    "7. [LEfSe Analysis - OTU as well as KEGG Pathway](run_lefse.ipynb)"
   ]
  },
  {
   "cell_type": "markdown",
   "metadata": {},
   "source": [
    "Softwares\n",
    "----------\n",
    "1. Qiime for OTU clustering. \n",
    "2. "
   ]
  },
  {
   "cell_type": "code",
   "execution_count": null,
   "metadata": {
    "collapsed": true
   },
   "outputs": [],
   "source": []
  }
 ],
 "metadata": {
  "kernelspec": {
   "display_name": "Python 2",
   "language": "python",
   "name": "python2"
  },
  "language_info": {
   "codemirror_mode": {
    "name": "ipython",
    "version": 2
   },
   "file_extension": ".py",
   "mimetype": "text/x-python",
   "name": "python",
   "nbconvert_exporter": "python",
   "pygments_lexer": "ipython2",
   "version": "2.7.6"
  }
 },
 "nbformat": 4,
 "nbformat_minor": 0
}
